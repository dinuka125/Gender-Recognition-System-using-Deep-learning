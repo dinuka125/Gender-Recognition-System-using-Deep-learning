{
  "nbformat": 4,
  "nbformat_minor": 0,
  "metadata": {
    "colab": {
      "name": "Copy of CNN + LSTM  COMB final",
      "provenance": [],
      "collapsed_sections": [],
      "authorship_tag": "ABX9TyPIPEQ+ALyaDbE3RgfTZuJg",
      "include_colab_link": true
    },
    "kernelspec": {
      "name": "python3",
      "display_name": "Python 3"
    },
    "accelerator": "GPU"
  },
  "cells": [
    {
      "cell_type": "markdown",
      "metadata": {
        "id": "view-in-github",
        "colab_type": "text"
      },
      "source": [
        "<a href=\"https://colab.research.google.com/github/dinuka125/Gender-Recognition-System-using-Deep-learning/blob/master/Copy_of_CNN_%2B_LSTM_SAMP_final.ipynb\" target=\"_parent\"><img src=\"https://colab.research.google.com/assets/colab-badge.svg\" alt=\"Open In Colab\"/></a>"
      ]
    },
    {
      "cell_type": "code",
      "metadata": {
        "colab": {
          "base_uri": "https://localhost:8080/"
        },
        "id": "ZXLBqZkCucfr",
        "outputId": "dc582c0c-13fb-4335-cb59-4aed63f15e3d"
      },
      "source": [
        "from google.colab import drive\n",
        "drive.mount('/content/drive')\n",
        "path ='/content/drive/My Drive/csv_files/'"
      ],
      "execution_count": 1,
      "outputs": [
        {
          "output_type": "stream",
          "text": [
            "Mounted at /content/drive\n"
          ],
          "name": "stdout"
        }
      ]
    },
    {
      "cell_type": "code",
      "metadata": {
        "id": "Oqr2ukrXugF5"
      },
      "source": [
        "import numpy as np\n",
        "\n",
        "data=np.load(path+'datasamp.npy')\n",
        "target=np.load(path+'targetsamp.npy')"
      ],
      "execution_count": 2,
      "outputs": []
    },
    {
      "cell_type": "code",
      "metadata": {
        "colab": {
          "base_uri": "https://localhost:8080/"
        },
        "id": "CRIZr5b9uiga",
        "outputId": "b0950879-2874-43ce-b76e-0b1c1f0da61d"
      },
      "source": [
        "print(data.shape)\n",
        "print(target.shape)\n",
        "print(data.shape[1:])"
      ],
      "execution_count": 3,
      "outputs": [
        {
          "output_type": "stream",
          "text": [
            "(2559, 50, 4)\n",
            "(2559,)\n",
            "(50, 4)\n"
          ],
          "name": "stdout"
        }
      ]
    },
    {
      "cell_type": "code",
      "metadata": {
        "id": "npzvvGsMujKp"
      },
      "source": [
        "train_data=data[:1791]\n",
        "train_target=target[:1791]\n",
        "\n",
        "test_data=data[1791:]\n",
        "test_target=target[1791:]"
      ],
      "execution_count": 4,
      "outputs": []
    },
    {
      "cell_type": "code",
      "metadata": {
        "colab": {
          "base_uri": "https://localhost:8080/",
          "height": 279
        },
        "id": "9cz3KeJ9ul7x",
        "outputId": "72d5aeef-c428-404c-acfa-49647940d597"
      },
      "source": [
        "from matplotlib import pyplot as plt\n",
        "\n",
        "test_x_range=np.arange(1791,2559,1)\n",
        "#test_x_range is an array of values between 1000-1208\n",
        "\n",
        "plt.plot(train_target,'r',label='train')\n",
        "plt.plot(test_x_range,test_target,'b',label='test')\n",
        "plt.xlabel('Date')\n",
        "plt.ylabel('Open Value/$')\n",
        "plt.show()"
      ],
      "execution_count": 5,
      "outputs": [
        {
          "output_type": "display_data",
          "data": {
            "image/png": "[encoded data removed]",
            "text/plain": [
              "<Figure size 432x288 with 1 Axes>"
            ]
          },
          "metadata": {
            "tags": [],
            "needs_background": "light"
          }
        }
      ]
    },
    {
      "cell_type": "code",
      "metadata": {
        "colab": {
          "base_uri": "https://localhost:8080/"
        },
        "id": "hu9IHCDUunKJ",
        "outputId": "e6b3b4a2-84dc-47a0-dc2b-0c320db52264"
      },
      "source": [
        "\n",
        "from keras.layers import Input\n",
        "from keras.models import Model\n",
        "from keras.layers import LSTM\n",
        "from keras.layers import Conv1D\n",
        "from keras.layers import MaxPooling1D\n",
        "from keras.layers import Dropout\n",
        "from keras.layers import Dense\n",
        "from keras.layers import Flatten\n",
        "\n",
        "input_layer = Input(shape=(data.shape[1:]))\n",
        "conv1 = Conv1D(filters=256,\n",
        "               kernel_size=3,\n",
        "               strides=1,\n",
        "               activation='relu',\n",
        "              padding='same')(input_layer)\n",
        "\n",
        "conv1=(MaxPooling1D(pool_size=2))(conv1)\n",
        "\n",
        "droup0=(Dropout(0.2))(conv1)\n",
        "#conv2=Conv1D(filters=128,kernel_size=3,activation='relu')(conv1)\n",
        "#pool1=(MaxPooling1D(pool_size=2))(conv2)\n",
        "#pool1=(Dropout(0.2))(pool1)\n",
        "#conv3=Conv1D(filters=64,kernel_size=3,activation='relu')(pool1)\n",
        "#pool2=(MaxPooling1D(pool_size=2))(conv3)\n",
        "\n",
        "#flt=Flatten()(pool2)\n",
        "#lstm1 = LSTM(96, return_sequences=True)(conv1)\n",
        "#droup9=(Dropout(0.2))(lstm1)\n",
        "\n",
        "lstm1 = LSTM(96, return_sequences=True)(conv1)\n",
        "droup9=(Dropout(0.2))(lstm1)\n",
        "\n",
        "lstm2=LSTM(units=96,return_sequences=True)(droup9)\n",
        "droup1=(Dropout(0.2))(lstm2)\n",
        "\n",
        "lstm3=LSTM(units=96,return_sequences=True)(droup1)\n",
        "drop2=Dropout(0.2)(lstm3)\n",
        "\n",
        "lstm4=LSTM(units=96,return_sequences=False)(drop2)\n",
        "drop3=(Dropout(0.2))(lstm4)\n",
        "\n",
        "\n",
        "#dense1=Dense(units=1,activation='linear')(drop3)\n",
        "\n",
        "output_layer = Dense(1, activation='linear')(drop3)\n",
        "model = Model(inputs=input_layer, outputs=output_layer)\n",
        "\n",
        "model.compile(loss='mse',optimizer='adam',metrics=['mse', 'mae', 'mape'])\n",
        "\n",
        "model.summary()\n",
        "\n"
      ],
      "execution_count": 6,
      "outputs": [
        {
          "output_type": "stream",
          "text": [
            "Model: \"model\"\n",
            "_________________________________________________________________\n",
            "Layer (type)                 Output Shape              Param #   \n",
            "=================================================================\n",
            "input_1 (InputLayer)         [(None, 50, 4)]           0         \n",
            "_________________________________________________________________\n",
            "conv1d (Conv1D)              (None, 50, 256)           3328      \n",
            "_________________________________________________________________\n",
            "max_pooling1d (MaxPooling1D) (None, 25, 256)           0         \n",
            "_________________________________________________________________\n",
            "lstm (LSTM)                  (None, 25, 96)            135552    \n",
            "_________________________________________________________________\n",
            "dropout_1 (Dropout)          (None, 25, 96)            0         \n",
            "_________________________________________________________________\n",
            "lstm_1 (LSTM)                (None, 25, 96)            74112     \n",
            "_________________________________________________________________\n",
            "dropout_2 (Dropout)          (None, 25, 96)            0         \n",
            "_________________________________________________________________\n",
            "lstm_2 (LSTM)                (None, 25, 96)            74112     \n",
            "_________________________________________________________________\n",
            "dropout_3 (Dropout)          (None, 25, 96)            0         \n",
            "_________________________________________________________________\n",
            "lstm_3 (LSTM)                (None, 96)                74112     \n",
            "_________________________________________________________________\n",
            "dropout_4 (Dropout)          (None, 96)                0         \n",
            "_________________________________________________________________\n",
            "dense (Dense)                (None, 1)                 97        \n",
            "=================================================================\n",
            "Total params: 361,313\n",
            "Trainable params: 361,313\n",
            "Non-trainable params: 0\n",
            "_________________________________________________________________\n"
          ],
          "name": "stdout"
        }
      ]
    },
    {
      "cell_type": "code",
      "metadata": {
        "id": "zgMTyhelzTiZ"
      },
      "source": [
        ""
      ],
      "execution_count": 6,
      "outputs": []
    },
    {
      "cell_type": "code",
      "metadata": {
        "colab": {
          "base_uri": "https://localhost:8080/"
        },
        "id": "n3WXn4Q4urxx",
        "outputId": "7be352a5-249f-4f4c-b745-f352caa9e0b5"
      },
      "source": [
        "history=model.fit(train_data,train_target,epochs=200,validation_split=0.10)"
      ],
      "execution_count": 7,
      "outputs": [
        {
          "output_type": "stream",
          "text": [
            "Epoch 1/200\n",
            "51/51 [==============================] - 13s 138ms/step - loss: 0.0568 - mse: 0.0568 - mae: 0.1675 - mape: 26.7159 - val_loss: 0.0107 - val_mse: 0.0107 - val_mae: 0.0981 - val_mape: 13.3033\n",
            "Epoch 2/200\n",
            "51/51 [==============================] - 5s 103ms/step - loss: 0.0064 - mse: 0.0064 - mae: 0.0626 - mape: 10.2438 - val_loss: 0.0027 - val_mse: 0.0027 - val_mae: 0.0447 - val_mape: 6.2958\n",
            "Epoch 3/200\n",
            "51/51 [==============================] - 5s 102ms/step - loss: 0.0051 - mse: 0.0051 - mae: 0.0562 - mape: 9.1196 - val_loss: 0.0030 - val_mse: 0.0030 - val_mae: 0.0453 - val_mape: 6.0741\n",
            "Epoch 4/200\n",
            "51/51 [==============================] - 5s 103ms/step - loss: 0.0048 - mse: 0.0048 - mae: 0.0541 - mape: 8.7787 - val_loss: 0.0046 - val_mse: 0.0046 - val_mae: 0.0605 - val_mape: 8.1693\n",
            "Epoch 5/200\n",
            "51/51 [==============================] - 5s 102ms/step - loss: 0.0047 - mse: 0.0047 - mae: 0.0541 - mape: 8.6849 - val_loss: 0.0017 - val_mse: 0.0017 - val_mae: 0.0328 - val_mape: 4.3728\n",
            "Epoch 6/200\n",
            "51/51 [==============================] - 5s 103ms/step - loss: 0.0052 - mse: 0.0052 - mae: 0.0558 - mape: 9.0496 - val_loss: 0.0011 - val_mse: 0.0011 - val_mae: 0.0298 - val_mape: 4.1216\n",
            "Epoch 7/200\n",
            "51/51 [==============================] - 5s 103ms/step - loss: 0.0042 - mse: 0.0042 - mae: 0.0506 - mape: 8.2212 - val_loss: 0.0050 - val_mse: 0.0050 - val_mae: 0.0650 - val_mape: 8.8137\n",
            "Epoch 8/200\n",
            "51/51 [==============================] - 5s 103ms/step - loss: 0.0045 - mse: 0.0045 - mae: 0.0531 - mape: 8.4980 - val_loss: 0.0028 - val_mse: 0.0028 - val_mae: 0.0455 - val_mape: 6.1311\n",
            "Epoch 9/200\n",
            "51/51 [==============================] - 5s 104ms/step - loss: 0.0035 - mse: 0.0035 - mae: 0.0460 - mape: 7.4198 - val_loss: 0.0021 - val_mse: 0.0021 - val_mae: 0.0383 - val_mape: 5.1717\n",
            "Epoch 10/200\n",
            "51/51 [==============================] - 5s 105ms/step - loss: 0.0032 - mse: 0.0032 - mae: 0.0442 - mape: 7.0666 - val_loss: 0.0021 - val_mse: 0.0021 - val_mae: 0.0390 - val_mape: 5.2551\n",
            "Epoch 11/200\n",
            "51/51 [==============================] - 5s 105ms/step - loss: 0.0031 - mse: 0.0031 - mae: 0.0437 - mape: 7.0601 - val_loss: 0.0021 - val_mse: 0.0021 - val_mae: 0.0392 - val_mape: 5.2967\n",
            "Epoch 12/200\n",
            "51/51 [==============================] - 5s 106ms/step - loss: 0.0027 - mse: 0.0027 - mae: 0.0407 - mape: 6.6433 - val_loss: 0.0014 - val_mse: 0.0014 - val_mae: 0.0319 - val_mape: 4.3202\n",
            "Epoch 13/200\n",
            "51/51 [==============================] - 5s 104ms/step - loss: 0.0026 - mse: 0.0026 - mae: 0.0400 - mape: 6.4801 - val_loss: 8.3663e-04 - val_mse: 8.3663e-04 - val_mae: 0.0238 - val_mape: 3.2253\n",
            "Epoch 14/200\n",
            "51/51 [==============================] - 5s 107ms/step - loss: 0.0024 - mse: 0.0024 - mae: 0.0381 - mape: 6.1916 - val_loss: 0.0017 - val_mse: 0.0017 - val_mae: 0.0359 - val_mape: 5.0095\n",
            "Epoch 15/200\n",
            "51/51 [==============================] - 5s 104ms/step - loss: 0.0027 - mse: 0.0027 - mae: 0.0414 - mape: 6.6626 - val_loss: 0.0014 - val_mse: 0.0014 - val_mae: 0.0324 - val_mape: 4.3884\n",
            "Epoch 16/200\n",
            "51/51 [==============================] - 5s 105ms/step - loss: 0.0023 - mse: 0.0023 - mae: 0.0379 - mape: 6.0920 - val_loss: 0.0031 - val_mse: 0.0031 - val_mae: 0.0522 - val_mape: 7.1325\n",
            "Epoch 17/200\n",
            "51/51 [==============================] - 5s 105ms/step - loss: 0.0026 - mse: 0.0026 - mae: 0.0404 - mape: 6.5346 - val_loss: 3.6164e-04 - val_mse: 3.6164e-04 - val_mae: 0.0146 - val_mape: 1.9736\n",
            "Epoch 18/200\n",
            "51/51 [==============================] - 5s 105ms/step - loss: 0.0023 - mse: 0.0023 - mae: 0.0380 - mape: 6.2024 - val_loss: 0.0029 - val_mse: 0.0029 - val_mae: 0.0512 - val_mape: 6.9945\n",
            "Epoch 19/200\n",
            "51/51 [==============================] - 5s 105ms/step - loss: 0.0027 - mse: 0.0027 - mae: 0.0412 - mape: 6.6162 - val_loss: 3.3085e-04 - val_mse: 3.3085e-04 - val_mae: 0.0147 - val_mape: 2.0379\n",
            "Epoch 20/200\n",
            "51/51 [==============================] - 5s 104ms/step - loss: 0.0018 - mse: 0.0018 - mae: 0.0332 - mape: 5.3847 - val_loss: 3.5591e-04 - val_mse: 3.5591e-04 - val_mae: 0.0153 - val_mape: 2.1232\n",
            "Epoch 21/200\n",
            "51/51 [==============================] - 5s 104ms/step - loss: 0.0021 - mse: 0.0021 - mae: 0.0355 - mape: 5.7072 - val_loss: 2.9014e-04 - val_mse: 2.9014e-04 - val_mae: 0.0134 - val_mape: 1.8364\n",
            "Epoch 22/200\n",
            "51/51 [==============================] - 5s 103ms/step - loss: 0.0019 - mse: 0.0019 - mae: 0.0341 - mape: 5.4963 - val_loss: 3.8051e-04 - val_mse: 3.8051e-04 - val_mae: 0.0158 - val_mape: 2.1342\n",
            "Epoch 23/200\n",
            "51/51 [==============================] - 5s 103ms/step - loss: 0.0017 - mse: 0.0017 - mae: 0.0319 - mape: 5.1481 - val_loss: 9.7751e-04 - val_mse: 9.7751e-04 - val_mae: 0.0278 - val_mape: 3.7938\n",
            "Epoch 24/200\n",
            "51/51 [==============================] - 5s 104ms/step - loss: 0.0024 - mse: 0.0024 - mae: 0.0378 - mape: 5.9819 - val_loss: 2.2176e-04 - val_mse: 2.2176e-04 - val_mae: 0.0111 - val_mape: 1.5197\n",
            "Epoch 25/200\n",
            "51/51 [==============================] - 5s 105ms/step - loss: 0.0017 - mse: 0.0017 - mae: 0.0320 - mape: 5.1847 - val_loss: 3.6813e-04 - val_mse: 3.6813e-04 - val_mae: 0.0159 - val_mape: 2.1677\n",
            "Epoch 26/200\n",
            "51/51 [==============================] - 5s 103ms/step - loss: 0.0017 - mse: 0.0017 - mae: 0.0317 - mape: 5.1387 - val_loss: 0.0010 - val_mse: 0.0010 - val_mae: 0.0287 - val_mape: 3.9167\n",
            "Epoch 27/200\n",
            "51/51 [==============================] - 5s 105ms/step - loss: 0.0021 - mse: 0.0021 - mae: 0.0359 - mape: 5.8015 - val_loss: 8.2576e-04 - val_mse: 8.2576e-04 - val_mae: 0.0258 - val_mape: 3.5187\n",
            "Epoch 28/200\n",
            "51/51 [==============================] - 5s 103ms/step - loss: 0.0016 - mse: 0.0016 - mae: 0.0321 - mape: 5.1988 - val_loss: 1.9079e-04 - val_mse: 1.9079e-04 - val_mae: 0.0103 - val_mape: 1.3946\n",
            "Epoch 29/200\n",
            "51/51 [==============================] - 5s 105ms/step - loss: 0.0015 - mse: 0.0015 - mae: 0.0311 - mape: 5.0756 - val_loss: 0.0011 - val_mse: 0.0011 - val_mae: 0.0303 - val_mape: 4.2000\n",
            "Epoch 30/200\n",
            "51/51 [==============================] - 5s 103ms/step - loss: 0.0019 - mse: 0.0019 - mae: 0.0346 - mape: 5.5736 - val_loss: 3.0171e-04 - val_mse: 3.0171e-04 - val_mae: 0.0146 - val_mape: 1.9885\n",
            "Epoch 31/200\n",
            "51/51 [==============================] - 5s 103ms/step - loss: 0.0017 - mse: 0.0017 - mae: 0.0329 - mape: 5.2892 - val_loss: 1.4448e-04 - val_mse: 1.4448e-04 - val_mae: 0.0088 - val_mape: 1.1910\n",
            "Epoch 32/200\n",
            "51/51 [==============================] - 5s 104ms/step - loss: 0.0016 - mse: 0.0016 - mae: 0.0316 - mape: 5.0793 - val_loss: 1.6740e-04 - val_mse: 1.6740e-04 - val_mae: 0.0096 - val_mape: 1.3048\n",
            "Epoch 33/200\n",
            "51/51 [==============================] - 5s 103ms/step - loss: 0.0016 - mse: 0.0016 - mae: 0.0310 - mape: 4.9736 - val_loss: 1.4529e-04 - val_mse: 1.4529e-04 - val_mae: 0.0090 - val_mape: 1.2234\n",
            "Epoch 34/200\n",
            "51/51 [==============================] - 5s 104ms/step - loss: 0.0016 - mse: 0.0016 - mae: 0.0310 - mape: 4.9998 - val_loss: 1.5495e-04 - val_mse: 1.5495e-04 - val_mae: 0.0093 - val_mape: 1.2663\n",
            "Epoch 35/200\n",
            "51/51 [==============================] - 5s 104ms/step - loss: 0.0015 - mse: 0.0015 - mae: 0.0298 - mape: 4.8086 - val_loss: 1.5844e-04 - val_mse: 1.5844e-04 - val_mae: 0.0095 - val_mape: 1.2800\n",
            "Epoch 36/200\n",
            "51/51 [==============================] - 5s 103ms/step - loss: 0.0014 - mse: 0.0014 - mae: 0.0293 - mape: 4.7479 - val_loss: 7.2346e-04 - val_mse: 7.2346e-04 - val_mae: 0.0247 - val_mape: 3.3668\n",
            "Epoch 37/200\n",
            "51/51 [==============================] - 5s 106ms/step - loss: 0.0015 - mse: 0.0015 - mae: 0.0298 - mape: 4.7678 - val_loss: 4.2973e-04 - val_mse: 4.2973e-04 - val_mae: 0.0183 - val_mape: 2.4902\n",
            "Epoch 38/200\n",
            "51/51 [==============================] - 5s 107ms/step - loss: 0.0013 - mse: 0.0013 - mae: 0.0283 - mape: 4.5614 - val_loss: 1.1412e-04 - val_mse: 1.1412e-04 - val_mae: 0.0078 - val_mape: 1.0757\n",
            "Epoch 39/200\n",
            "51/51 [==============================] - 5s 105ms/step - loss: 0.0013 - mse: 0.0013 - mae: 0.0286 - mape: 4.5820 - val_loss: 2.1393e-04 - val_mse: 2.1393e-04 - val_mae: 0.0119 - val_mape: 1.6103\n",
            "Epoch 40/200\n",
            "51/51 [==============================] - 5s 105ms/step - loss: 0.0011 - mse: 0.0011 - mae: 0.0265 - mape: 4.3098 - val_loss: 1.2391e-04 - val_mse: 1.2391e-04 - val_mae: 0.0086 - val_mape: 1.1857\n",
            "Epoch 41/200\n",
            "51/51 [==============================] - 5s 106ms/step - loss: 0.0013 - mse: 0.0013 - mae: 0.0285 - mape: 4.6586 - val_loss: 7.7625e-04 - val_mse: 7.7625e-04 - val_mae: 0.0259 - val_mape: 3.5341\n",
            "Epoch 42/200\n",
            "51/51 [==============================] - 5s 106ms/step - loss: 0.0014 - mse: 0.0014 - mae: 0.0287 - mape: 4.5910 - val_loss: 1.2956e-04 - val_mse: 1.2956e-04 - val_mae: 0.0087 - val_mape: 1.1902\n",
            "Epoch 43/200\n",
            "51/51 [==============================] - 5s 106ms/step - loss: 0.0012 - mse: 0.0012 - mae: 0.0267 - mape: 4.3477 - val_loss: 1.3307e-04 - val_mse: 1.3307e-04 - val_mae: 0.0092 - val_mape: 1.2766\n",
            "Epoch 44/200\n",
            "51/51 [==============================] - 5s 104ms/step - loss: 0.0013 - mse: 0.0013 - mae: 0.0275 - mape: 4.4319 - val_loss: 1.1982e-04 - val_mse: 1.1982e-04 - val_mae: 0.0081 - val_mape: 1.0908\n",
            "Epoch 45/200\n",
            "51/51 [==============================] - 5s 104ms/step - loss: 0.0012 - mse: 0.0012 - mae: 0.0263 - mape: 4.2435 - val_loss: 3.3165e-04 - val_mse: 3.3165e-04 - val_mae: 0.0158 - val_mape: 2.1496\n",
            "Epoch 46/200\n",
            "51/51 [==============================] - 5s 105ms/step - loss: 0.0013 - mse: 0.0013 - mae: 0.0280 - mape: 4.5237 - val_loss: 1.1434e-04 - val_mse: 1.1434e-04 - val_mae: 0.0079 - val_mape: 1.0667\n",
            "Epoch 47/200\n",
            "51/51 [==============================] - 5s 105ms/step - loss: 0.0012 - mse: 0.0012 - mae: 0.0271 - mape: 4.3372 - val_loss: 3.5373e-04 - val_mse: 3.5373e-04 - val_mae: 0.0167 - val_mape: 2.2879\n",
            "Epoch 48/200\n",
            "51/51 [==============================] - 5s 106ms/step - loss: 0.0011 - mse: 0.0011 - mae: 0.0262 - mape: 4.2012 - val_loss: 1.0176e-04 - val_mse: 1.0176e-04 - val_mae: 0.0073 - val_mape: 0.9924\n",
            "Epoch 49/200\n",
            "51/51 [==============================] - 5s 104ms/step - loss: 0.0010 - mse: 0.0010 - mae: 0.0250 - mape: 4.0367 - val_loss: 1.7456e-04 - val_mse: 1.7456e-04 - val_mae: 0.0106 - val_mape: 1.4446\n",
            "Epoch 50/200\n",
            "51/51 [==============================] - 5s 106ms/step - loss: 0.0012 - mse: 0.0012 - mae: 0.0272 - mape: 4.4178 - val_loss: 3.2018e-04 - val_mse: 3.2018e-04 - val_mae: 0.0156 - val_mape: 2.1180\n",
            "Epoch 51/200\n",
            "51/51 [==============================] - 5s 107ms/step - loss: 9.4947e-04 - mse: 9.4947e-04 - mae: 0.0243 - mape: 3.9263 - val_loss: 1.3789e-04 - val_mse: 1.3789e-04 - val_mae: 0.0096 - val_mape: 1.3429\n",
            "Epoch 52/200\n",
            "51/51 [==============================] - 5s 106ms/step - loss: 0.0011 - mse: 0.0011 - mae: 0.0265 - mape: 4.2596 - val_loss: 4.4142e-04 - val_mse: 4.4142e-04 - val_mae: 0.0190 - val_mape: 2.5768\n",
            "Epoch 53/200\n",
            "51/51 [==============================] - 5s 107ms/step - loss: 9.8567e-04 - mse: 9.8567e-04 - mae: 0.0245 - mape: 3.8809 - val_loss: 2.6886e-04 - val_mse: 2.6886e-04 - val_mae: 0.0142 - val_mape: 1.9429\n",
            "Epoch 54/200\n",
            "51/51 [==============================] - 5s 107ms/step - loss: 0.0010 - mse: 0.0010 - mae: 0.0257 - mape: 4.1832 - val_loss: 1.1532e-04 - val_mse: 1.1532e-04 - val_mae: 0.0079 - val_mape: 1.0727\n",
            "Epoch 55/200\n",
            "51/51 [==============================] - 5s 107ms/step - loss: 0.0011 - mse: 0.0011 - mae: 0.0255 - mape: 4.1268 - val_loss: 1.1452e-04 - val_mse: 1.1452e-04 - val_mae: 0.0086 - val_mape: 1.1975\n",
            "Epoch 56/200\n",
            "51/51 [==============================] - 5s 107ms/step - loss: 0.0010 - mse: 0.0010 - mae: 0.0254 - mape: 4.1016 - val_loss: 9.1530e-05 - val_mse: 9.1530e-05 - val_mae: 0.0071 - val_mape: 0.9738\n",
            "Epoch 57/200\n",
            "51/51 [==============================] - 5s 106ms/step - loss: 0.0011 - mse: 0.0011 - mae: 0.0251 - mape: 4.0849 - val_loss: 1.6859e-04 - val_mse: 1.6859e-04 - val_mae: 0.0111 - val_mape: 1.5391\n",
            "Epoch 58/200\n",
            "51/51 [==============================] - 5s 106ms/step - loss: 0.0010 - mse: 0.0010 - mae: 0.0252 - mape: 4.1009 - val_loss: 1.0798e-04 - val_mse: 1.0798e-04 - val_mae: 0.0076 - val_mape: 1.0210\n",
            "Epoch 59/200\n",
            "51/51 [==============================] - 5s 106ms/step - loss: 9.0122e-04 - mse: 9.0122e-04 - mae: 0.0230 - mape: 3.7404 - val_loss: 8.6223e-05 - val_mse: 8.6223e-05 - val_mae: 0.0066 - val_mape: 0.9053\n",
            "Epoch 60/200\n",
            "51/51 [==============================] - 5s 106ms/step - loss: 9.6835e-04 - mse: 9.6835e-04 - mae: 0.0248 - mape: 4.0180 - val_loss: 1.5057e-04 - val_mse: 1.5057e-04 - val_mae: 0.0097 - val_mape: 1.3258\n",
            "Epoch 61/200\n",
            "51/51 [==============================] - 5s 106ms/step - loss: 9.5156e-04 - mse: 9.5156e-04 - mae: 0.0242 - mape: 3.9107 - val_loss: 2.8270e-04 - val_mse: 2.8270e-04 - val_mae: 0.0148 - val_mape: 2.0144\n",
            "Epoch 62/200\n",
            "51/51 [==============================] - 5s 106ms/step - loss: 8.7778e-04 - mse: 8.7778e-04 - mae: 0.0230 - mape: 3.7352 - val_loss: 1.7773e-04 - val_mse: 1.7773e-04 - val_mae: 0.0115 - val_mape: 1.5961\n",
            "Epoch 63/200\n",
            "51/51 [==============================] - 5s 107ms/step - loss: 8.5663e-04 - mse: 8.5663e-04 - mae: 0.0225 - mape: 3.5711 - val_loss: 1.0978e-04 - val_mse: 1.0978e-04 - val_mae: 0.0078 - val_mape: 1.0690\n",
            "Epoch 64/200\n",
            "51/51 [==============================] - 5s 107ms/step - loss: 9.1958e-04 - mse: 9.1958e-04 - mae: 0.0239 - mape: 3.8608 - val_loss: 7.5840e-05 - val_mse: 7.5840e-05 - val_mae: 0.0061 - val_mape: 0.8360\n",
            "Epoch 65/200\n",
            "51/51 [==============================] - 5s 107ms/step - loss: 8.3275e-04 - mse: 8.3275e-04 - mae: 0.0226 - mape: 3.5998 - val_loss: 3.1724e-04 - val_mse: 3.1724e-04 - val_mae: 0.0158 - val_mape: 2.1542\n",
            "Epoch 66/200\n",
            "51/51 [==============================] - 5s 106ms/step - loss: 8.6638e-04 - mse: 8.6638e-04 - mae: 0.0230 - mape: 3.6801 - val_loss: 2.7969e-04 - val_mse: 2.7969e-04 - val_mae: 0.0147 - val_mape: 2.0110\n",
            "Epoch 67/200\n",
            "51/51 [==============================] - 5s 107ms/step - loss: 8.2529e-04 - mse: 8.2529e-04 - mae: 0.0224 - mape: 3.6671 - val_loss: 2.5078e-04 - val_mse: 2.5078e-04 - val_mae: 0.0141 - val_mape: 1.9542\n",
            "Epoch 68/200\n",
            "51/51 [==============================] - 5s 106ms/step - loss: 8.5638e-04 - mse: 8.5638e-04 - mae: 0.0230 - mape: 3.7562 - val_loss: 1.2670e-04 - val_mse: 1.2670e-04 - val_mae: 0.0094 - val_mape: 1.2970\n",
            "Epoch 69/200\n",
            "51/51 [==============================] - 5s 106ms/step - loss: 8.4938e-04 - mse: 8.4938e-04 - mae: 0.0225 - mape: 3.6248 - val_loss: 7.9126e-05 - val_mse: 7.9126e-05 - val_mae: 0.0062 - val_mape: 0.8470\n",
            "Epoch 70/200\n",
            "51/51 [==============================] - 5s 107ms/step - loss: 8.0450e-04 - mse: 8.0450e-04 - mae: 0.0220 - mape: 3.5188 - val_loss: 3.1944e-04 - val_mse: 3.1944e-04 - val_mae: 0.0161 - val_mape: 2.1916\n",
            "Epoch 71/200\n",
            "51/51 [==============================] - 5s 106ms/step - loss: 8.8400e-04 - mse: 8.8400e-04 - mae: 0.0231 - mape: 3.7027 - val_loss: 1.8098e-04 - val_mse: 1.8098e-04 - val_mae: 0.0113 - val_mape: 1.5339\n",
            "Epoch 72/200\n",
            "51/51 [==============================] - 5s 106ms/step - loss: 6.8836e-04 - mse: 6.8836e-04 - mae: 0.0206 - mape: 3.3911 - val_loss: 1.5161e-04 - val_mse: 1.5161e-04 - val_mae: 0.0100 - val_mape: 1.3666\n",
            "Epoch 73/200\n",
            "51/51 [==============================] - 5s 106ms/step - loss: 8.0703e-04 - mse: 8.0703e-04 - mae: 0.0219 - mape: 3.5364 - val_loss: 7.8598e-05 - val_mse: 7.8598e-05 - val_mae: 0.0063 - val_mape: 0.8542\n",
            "Epoch 74/200\n",
            "51/51 [==============================] - 5s 107ms/step - loss: 7.1465e-04 - mse: 7.1465e-04 - mae: 0.0210 - mape: 3.3876 - val_loss: 1.8365e-04 - val_mse: 1.8365e-04 - val_mae: 0.0117 - val_mape: 1.6197\n",
            "Epoch 75/200\n",
            "51/51 [==============================] - 5s 106ms/step - loss: 7.0144e-04 - mse: 7.0144e-04 - mae: 0.0208 - mape: 3.3871 - val_loss: 3.8867e-04 - val_mse: 3.8867e-04 - val_mae: 0.0182 - val_mape: 2.5185\n",
            "Epoch 76/200\n",
            "51/51 [==============================] - 5s 106ms/step - loss: 6.8322e-04 - mse: 6.8322e-04 - mae: 0.0206 - mape: 3.3240 - val_loss: 2.6498e-04 - val_mse: 2.6498e-04 - val_mae: 0.0144 - val_mape: 1.9690\n",
            "Epoch 77/200\n",
            "51/51 [==============================] - 5s 106ms/step - loss: 7.5291e-04 - mse: 7.5291e-04 - mae: 0.0214 - mape: 3.4283 - val_loss: 3.5540e-04 - val_mse: 3.5540e-04 - val_mae: 0.0173 - val_mape: 2.3981\n",
            "Epoch 78/200\n",
            "51/51 [==============================] - 5s 107ms/step - loss: 8.5292e-04 - mse: 8.5292e-04 - mae: 0.0226 - mape: 3.7223 - val_loss: 2.9598e-04 - val_mse: 2.9598e-04 - val_mae: 0.0157 - val_mape: 2.1695\n",
            "Epoch 79/200\n",
            "51/51 [==============================] - 5s 106ms/step - loss: 7.5439e-04 - mse: 7.5439e-04 - mae: 0.0212 - mape: 3.4549 - val_loss: 5.8111e-04 - val_mse: 5.8111e-04 - val_mae: 0.0227 - val_mape: 3.1012\n",
            "Epoch 80/200\n",
            "51/51 [==============================] - 5s 106ms/step - loss: 8.1501e-04 - mse: 8.1501e-04 - mae: 0.0223 - mape: 3.6694 - val_loss: 6.9033e-04 - val_mse: 6.9033e-04 - val_mae: 0.0251 - val_mape: 3.4468\n",
            "Epoch 81/200\n",
            "51/51 [==============================] - 5s 107ms/step - loss: 9.0443e-04 - mse: 9.0443e-04 - mae: 0.0237 - mape: 3.7764 - val_loss: 1.1303e-04 - val_mse: 1.1303e-04 - val_mae: 0.0081 - val_mape: 1.0929\n",
            "Epoch 82/200\n",
            "51/51 [==============================] - 5s 106ms/step - loss: 6.8710e-04 - mse: 6.8710e-04 - mae: 0.0203 - mape: 3.2483 - val_loss: 4.8157e-04 - val_mse: 4.8157e-04 - val_mae: 0.0206 - val_mape: 2.8486\n",
            "Epoch 83/200\n",
            "51/51 [==============================] - 5s 107ms/step - loss: 6.9223e-04 - mse: 6.9223e-04 - mae: 0.0204 - mape: 3.2870 - val_loss: 2.3257e-04 - val_mse: 2.3257e-04 - val_mae: 0.0133 - val_mape: 1.8206\n",
            "Epoch 84/200\n",
            "51/51 [==============================] - 5s 107ms/step - loss: 6.0042e-04 - mse: 6.0042e-04 - mae: 0.0192 - mape: 3.1485 - val_loss: 1.3932e-04 - val_mse: 1.3932e-04 - val_mae: 0.0098 - val_mape: 1.3472\n",
            "Epoch 85/200\n",
            "51/51 [==============================] - 5s 106ms/step - loss: 5.9838e-04 - mse: 5.9838e-04 - mae: 0.0188 - mape: 3.0362 - val_loss: 7.3904e-05 - val_mse: 7.3904e-05 - val_mae: 0.0062 - val_mape: 0.8537\n",
            "Epoch 86/200\n",
            "51/51 [==============================] - 5s 106ms/step - loss: 5.7829e-04 - mse: 5.7829e-04 - mae: 0.0187 - mape: 3.0540 - val_loss: 9.5390e-05 - val_mse: 9.5390e-05 - val_mae: 0.0077 - val_mape: 1.0563\n",
            "Epoch 87/200\n",
            "51/51 [==============================] - 5s 105ms/step - loss: 5.7194e-04 - mse: 5.7194e-04 - mae: 0.0186 - mape: 3.0159 - val_loss: 6.6758e-05 - val_mse: 6.6758e-05 - val_mae: 0.0059 - val_mape: 0.8096\n",
            "Epoch 88/200\n",
            "51/51 [==============================] - 5s 105ms/step - loss: 7.0327e-04 - mse: 7.0327e-04 - mae: 0.0205 - mape: 3.4524 - val_loss: 6.9679e-05 - val_mse: 6.9679e-05 - val_mae: 0.0060 - val_mape: 0.8278\n",
            "Epoch 89/200\n",
            "51/51 [==============================] - 5s 106ms/step - loss: 5.5352e-04 - mse: 5.5352e-04 - mae: 0.0180 - mape: 2.9046 - val_loss: 5.8106e-04 - val_mse: 5.8106e-04 - val_mae: 0.0228 - val_mape: 3.1681\n",
            "Epoch 90/200\n",
            "51/51 [==============================] - 5s 106ms/step - loss: 7.0323e-04 - mse: 7.0323e-04 - mae: 0.0204 - mape: 3.3443 - val_loss: 2.3205e-04 - val_mse: 2.3205e-04 - val_mae: 0.0134 - val_mape: 1.8449\n",
            "Epoch 91/200\n",
            "51/51 [==============================] - 5s 105ms/step - loss: 7.2871e-04 - mse: 7.2871e-04 - mae: 0.0212 - mape: 3.4018 - val_loss: 8.6943e-05 - val_mse: 8.6943e-05 - val_mae: 0.0068 - val_mape: 0.9219\n",
            "Epoch 92/200\n",
            "51/51 [==============================] - 5s 106ms/step - loss: 5.2463e-04 - mse: 5.2463e-04 - mae: 0.0175 - mape: 2.8833 - val_loss: 6.7184e-05 - val_mse: 6.7184e-05 - val_mae: 0.0059 - val_mape: 0.8050\n",
            "Epoch 93/200\n",
            "51/51 [==============================] - 5s 106ms/step - loss: 5.2583e-04 - mse: 5.2583e-04 - mae: 0.0176 - mape: 2.8739 - val_loss: 1.2344e-04 - val_mse: 1.2344e-04 - val_mae: 0.0088 - val_mape: 1.2033\n",
            "Epoch 94/200\n",
            "51/51 [==============================] - 5s 106ms/step - loss: 5.4994e-04 - mse: 5.4994e-04 - mae: 0.0182 - mape: 2.9699 - val_loss: 6.5857e-05 - val_mse: 6.5857e-05 - val_mae: 0.0055 - val_mape: 0.7577\n",
            "Epoch 95/200\n",
            "51/51 [==============================] - 5s 107ms/step - loss: 5.4721e-04 - mse: 5.4721e-04 - mae: 0.0181 - mape: 2.9258 - val_loss: 6.4661e-05 - val_mse: 6.4661e-05 - val_mae: 0.0056 - val_mape: 0.7759\n",
            "Epoch 96/200\n",
            "51/51 [==============================] - 5s 107ms/step - loss: 4.8498e-04 - mse: 4.8498e-04 - mae: 0.0170 - mape: 2.7154 - val_loss: 7.1715e-05 - val_mse: 7.1715e-05 - val_mae: 0.0059 - val_mape: 0.8025\n",
            "Epoch 97/200\n",
            "51/51 [==============================] - 5s 107ms/step - loss: 7.5292e-04 - mse: 7.5292e-04 - mae: 0.0215 - mape: 3.5386 - val_loss: 4.6429e-04 - val_mse: 4.6429e-04 - val_mae: 0.0202 - val_mape: 2.7718\n",
            "Epoch 98/200\n",
            "51/51 [==============================] - 6s 108ms/step - loss: 5.9318e-04 - mse: 5.9318e-04 - mae: 0.0188 - mape: 3.0084 - val_loss: 7.0976e-05 - val_mse: 7.0976e-05 - val_mae: 0.0061 - val_mape: 0.8477\n",
            "Epoch 99/200\n",
            "51/51 [==============================] - 6s 108ms/step - loss: 4.9564e-04 - mse: 4.9564e-04 - mae: 0.0171 - mape: 2.7814 - val_loss: 6.6732e-05 - val_mse: 6.6732e-05 - val_mae: 0.0058 - val_mape: 0.7913\n",
            "Epoch 100/200\n",
            "51/51 [==============================] - 5s 106ms/step - loss: 5.4740e-04 - mse: 5.4740e-04 - mae: 0.0182 - mape: 2.9819 - val_loss: 9.3469e-05 - val_mse: 9.3469e-05 - val_mae: 0.0071 - val_mape: 0.9596\n",
            "Epoch 101/200\n",
            "51/51 [==============================] - 5s 106ms/step - loss: 5.6306e-04 - mse: 5.6306e-04 - mae: 0.0187 - mape: 3.0472 - val_loss: 1.9554e-04 - val_mse: 1.9554e-04 - val_mae: 0.0124 - val_mape: 1.7178\n",
            "Epoch 102/200\n",
            "51/51 [==============================] - 5s 107ms/step - loss: 5.3271e-04 - mse: 5.3271e-04 - mae: 0.0175 - mape: 2.8526 - val_loss: 1.3335e-04 - val_mse: 1.3335e-04 - val_mae: 0.0094 - val_mape: 1.2837\n",
            "Epoch 103/200\n",
            "51/51 [==============================] - 5s 107ms/step - loss: 5.1109e-04 - mse: 5.1109e-04 - mae: 0.0172 - mape: 2.7809 - val_loss: 6.0504e-05 - val_mse: 6.0504e-05 - val_mae: 0.0053 - val_mape: 0.7231\n",
            "Epoch 104/200\n",
            "51/51 [==============================] - 5s 107ms/step - loss: 4.7282e-04 - mse: 4.7282e-04 - mae: 0.0168 - mape: 2.7463 - val_loss: 1.2085e-04 - val_mse: 1.2085e-04 - val_mae: 0.0087 - val_mape: 1.1834\n",
            "Epoch 105/200\n",
            "51/51 [==============================] - 5s 108ms/step - loss: 4.5829e-04 - mse: 4.5829e-04 - mae: 0.0162 - mape: 2.6144 - val_loss: 7.0718e-05 - val_mse: 7.0718e-05 - val_mae: 0.0059 - val_mape: 0.8059\n",
            "Epoch 106/200\n",
            "51/51 [==============================] - 5s 107ms/step - loss: 5.1115e-04 - mse: 5.1115e-04 - mae: 0.0173 - mape: 2.7791 - val_loss: 6.0777e-05 - val_mse: 6.0777e-05 - val_mae: 0.0053 - val_mape: 0.7226\n",
            "Epoch 107/200\n",
            "51/51 [==============================] - 6s 108ms/step - loss: 4.8296e-04 - mse: 4.8296e-04 - mae: 0.0169 - mape: 2.7854 - val_loss: 8.3581e-05 - val_mse: 8.3581e-05 - val_mae: 0.0067 - val_mape: 0.9017\n",
            "Epoch 108/200\n",
            "51/51 [==============================] - 5s 107ms/step - loss: 4.3148e-04 - mse: 4.3148e-04 - mae: 0.0158 - mape: 2.5638 - val_loss: 1.2129e-04 - val_mse: 1.2129e-04 - val_mae: 0.0092 - val_mape: 1.2667\n",
            "Epoch 109/200\n",
            "51/51 [==============================] - 5s 107ms/step - loss: 4.2854e-04 - mse: 4.2854e-04 - mae: 0.0157 - mape: 2.5587 - val_loss: 7.4625e-05 - val_mse: 7.4625e-05 - val_mae: 0.0065 - val_mape: 0.8961\n",
            "Epoch 110/200\n",
            "51/51 [==============================] - 6s 109ms/step - loss: 4.8728e-04 - mse: 4.8728e-04 - mae: 0.0168 - mape: 2.7435 - val_loss: 2.5144e-04 - val_mse: 2.5144e-04 - val_mae: 0.0144 - val_mape: 1.9925\n",
            "Epoch 111/200\n",
            "51/51 [==============================] - 5s 108ms/step - loss: 4.4916e-04 - mse: 4.4916e-04 - mae: 0.0161 - mape: 2.6000 - val_loss: 6.2473e-05 - val_mse: 6.2473e-05 - val_mae: 0.0055 - val_mape: 0.7601\n",
            "Epoch 112/200\n",
            "51/51 [==============================] - 5s 107ms/step - loss: 4.9294e-04 - mse: 4.9294e-04 - mae: 0.0168 - mape: 2.8098 - val_loss: 3.8695e-04 - val_mse: 3.8695e-04 - val_mae: 0.0183 - val_mape: 2.5419\n",
            "Epoch 113/200\n",
            "51/51 [==============================] - 6s 109ms/step - loss: 4.9756e-04 - mse: 4.9756e-04 - mae: 0.0174 - mape: 2.8212 - val_loss: 9.4887e-05 - val_mse: 9.4887e-05 - val_mae: 0.0077 - val_mape: 1.0593\n",
            "Epoch 114/200\n",
            "51/51 [==============================] - 5s 108ms/step - loss: 5.3585e-04 - mse: 5.3585e-04 - mae: 0.0178 - mape: 2.8850 - val_loss: 7.7033e-05 - val_mse: 7.7033e-05 - val_mae: 0.0067 - val_mape: 0.9275\n",
            "Epoch 115/200\n",
            "51/51 [==============================] - 5s 107ms/step - loss: 5.0366e-04 - mse: 5.0366e-04 - mae: 0.0176 - mape: 2.8151 - val_loss: 6.8345e-05 - val_mse: 6.8345e-05 - val_mae: 0.0059 - val_mape: 0.8050\n",
            "Epoch 116/200\n",
            "51/51 [==============================] - 5s 106ms/step - loss: 4.0768e-04 - mse: 4.0768e-04 - mae: 0.0157 - mape: 2.5832 - val_loss: 6.0761e-05 - val_mse: 6.0761e-05 - val_mae: 0.0053 - val_mape: 0.7302\n",
            "Epoch 117/200\n",
            "51/51 [==============================] - 5s 108ms/step - loss: 3.8254e-04 - mse: 3.8254e-04 - mae: 0.0150 - mape: 2.4308 - val_loss: 8.1467e-04 - val_mse: 8.1467e-04 - val_mae: 0.0275 - val_mape: 3.7709\n",
            "Epoch 118/200\n",
            "51/51 [==============================] - 5s 107ms/step - loss: 5.6383e-04 - mse: 5.6383e-04 - mae: 0.0182 - mape: 3.0062 - val_loss: 3.3944e-04 - val_mse: 3.3944e-04 - val_mae: 0.0170 - val_mape: 2.3311\n",
            "Epoch 119/200\n",
            "51/51 [==============================] - 6s 109ms/step - loss: 4.4551e-04 - mse: 4.4551e-04 - mae: 0.0161 - mape: 2.6169 - val_loss: 9.2659e-04 - val_mse: 9.2659e-04 - val_mae: 0.0295 - val_mape: 4.0434\n",
            "Epoch 120/200\n",
            "51/51 [==============================] - 5s 106ms/step - loss: 5.5876e-04 - mse: 5.5876e-04 - mae: 0.0183 - mape: 2.9413 - val_loss: 6.2430e-05 - val_mse: 6.2430e-05 - val_mae: 0.0054 - val_mape: 0.7344\n",
            "Epoch 121/200\n",
            "51/51 [==============================] - 5s 108ms/step - loss: 4.1014e-04 - mse: 4.1014e-04 - mae: 0.0154 - mape: 2.5128 - val_loss: 1.1039e-04 - val_mse: 1.1039e-04 - val_mae: 0.0085 - val_mape: 1.1728\n",
            "Epoch 122/200\n",
            "51/51 [==============================] - 5s 107ms/step - loss: 4.1117e-04 - mse: 4.1117e-04 - mae: 0.0152 - mape: 2.5337 - val_loss: 1.6677e-04 - val_mse: 1.6677e-04 - val_mae: 0.0110 - val_mape: 1.5095\n",
            "Epoch 123/200\n",
            "51/51 [==============================] - 5s 107ms/step - loss: 3.8281e-04 - mse: 3.8281e-04 - mae: 0.0146 - mape: 2.3883 - val_loss: 6.4767e-05 - val_mse: 6.4767e-05 - val_mae: 0.0058 - val_mape: 0.8062\n",
            "Epoch 124/200\n",
            "51/51 [==============================] - 5s 108ms/step - loss: 4.0354e-04 - mse: 4.0354e-04 - mae: 0.0154 - mape: 2.5523 - val_loss: 5.7478e-04 - val_mse: 5.7478e-04 - val_mae: 0.0227 - val_mape: 3.1040\n",
            "Epoch 125/200\n",
            "51/51 [==============================] - 5s 107ms/step - loss: 5.9188e-04 - mse: 5.9188e-04 - mae: 0.0195 - mape: 3.1884 - val_loss: 8.7406e-05 - val_mse: 8.7406e-05 - val_mae: 0.0074 - val_mape: 1.0203\n",
            "Epoch 126/200\n",
            "51/51 [==============================] - 5s 107ms/step - loss: 3.6866e-04 - mse: 3.6866e-04 - mae: 0.0144 - mape: 2.3655 - val_loss: 7.5034e-05 - val_mse: 7.5034e-05 - val_mae: 0.0062 - val_mape: 0.8450\n",
            "Epoch 127/200\n",
            "51/51 [==============================] - 5s 107ms/step - loss: 3.5709e-04 - mse: 3.5709e-04 - mae: 0.0144 - mape: 2.3421 - val_loss: 1.0703e-04 - val_mse: 1.0703e-04 - val_mae: 0.0085 - val_mape: 1.1821\n",
            "Epoch 128/200\n",
            "51/51 [==============================] - 5s 108ms/step - loss: 4.3803e-04 - mse: 4.3803e-04 - mae: 0.0156 - mape: 2.5485 - val_loss: 7.2944e-05 - val_mse: 7.2944e-05 - val_mae: 0.0063 - val_mape: 0.8617\n",
            "Epoch 129/200\n",
            "51/51 [==============================] - 5s 107ms/step - loss: 3.7344e-04 - mse: 3.7344e-04 - mae: 0.0147 - mape: 2.4312 - val_loss: 1.5707e-04 - val_mse: 1.5707e-04 - val_mae: 0.0106 - val_mape: 1.4595\n",
            "Epoch 130/200\n",
            "51/51 [==============================] - 6s 108ms/step - loss: 3.5943e-04 - mse: 3.5943e-04 - mae: 0.0145 - mape: 2.4125 - val_loss: 9.1086e-05 - val_mse: 9.1086e-05 - val_mae: 0.0072 - val_mape: 0.9735\n",
            "Epoch 131/200\n",
            "51/51 [==============================] - 5s 107ms/step - loss: 3.8131e-04 - mse: 3.8131e-04 - mae: 0.0145 - mape: 2.4761 - val_loss: 7.8904e-05 - val_mse: 7.8904e-05 - val_mae: 0.0064 - val_mape: 0.8761\n",
            "Epoch 132/200\n",
            "51/51 [==============================] - 5s 107ms/step - loss: 3.6292e-04 - mse: 3.6292e-04 - mae: 0.0145 - mape: 2.3435 - val_loss: 5.9358e-05 - val_mse: 5.9358e-05 - val_mae: 0.0053 - val_mape: 0.7231\n",
            "Epoch 133/200\n",
            "51/51 [==============================] - 5s 107ms/step - loss: 3.7506e-04 - mse: 3.7506e-04 - mae: 0.0150 - mape: 2.4601 - val_loss: 6.0844e-04 - val_mse: 6.0844e-04 - val_mae: 0.0236 - val_mape: 3.2414\n",
            "Epoch 134/200\n",
            "51/51 [==============================] - 5s 108ms/step - loss: 4.6872e-04 - mse: 4.6872e-04 - mae: 0.0170 - mape: 2.7833 - val_loss: 7.2403e-05 - val_mse: 7.2403e-05 - val_mae: 0.0063 - val_mape: 0.8746\n",
            "Epoch 135/200\n",
            "51/51 [==============================] - 5s 107ms/step - loss: 3.6053e-04 - mse: 3.6053e-04 - mae: 0.0146 - mape: 2.4286 - val_loss: 7.9208e-05 - val_mse: 7.9208e-05 - val_mae: 0.0069 - val_mape: 0.9556\n",
            "Epoch 136/200\n",
            "51/51 [==============================] - 5s 107ms/step - loss: 3.5204e-04 - mse: 3.5204e-04 - mae: 0.0143 - mape: 2.3371 - val_loss: 2.2056e-04 - val_mse: 2.2056e-04 - val_mae: 0.0132 - val_mape: 1.8159\n",
            "Epoch 137/200\n",
            "51/51 [==============================] - 5s 107ms/step - loss: 4.7232e-04 - mse: 4.7232e-04 - mae: 0.0167 - mape: 2.8225 - val_loss: 5.6283e-05 - val_mse: 5.6283e-05 - val_mae: 0.0051 - val_mape: 0.7022\n",
            "Epoch 138/200\n",
            "51/51 [==============================] - 5s 107ms/step - loss: 3.7098e-04 - mse: 3.7098e-04 - mae: 0.0147 - mape: 2.4379 - val_loss: 8.5060e-05 - val_mse: 8.5060e-05 - val_mae: 0.0069 - val_mape: 0.9334\n",
            "Epoch 139/200\n",
            "51/51 [==============================] - 5s 107ms/step - loss: 4.3852e-04 - mse: 4.3852e-04 - mae: 0.0155 - mape: 2.7403 - val_loss: 7.2000e-05 - val_mse: 7.2000e-05 - val_mae: 0.0064 - val_mape: 0.8796\n",
            "Epoch 140/200\n",
            "51/51 [==============================] - 5s 107ms/step - loss: 3.6576e-04 - mse: 3.6576e-04 - mae: 0.0145 - mape: 2.3903 - val_loss: 1.1004e-04 - val_mse: 1.1004e-04 - val_mae: 0.0084 - val_mape: 1.1496\n",
            "Epoch 141/200\n",
            "51/51 [==============================] - 5s 107ms/step - loss: 3.4422e-04 - mse: 3.4422e-04 - mae: 0.0139 - mape: 2.2471 - val_loss: 9.6412e-05 - val_mse: 9.6412e-05 - val_mae: 0.0079 - val_mape: 1.0998\n",
            "Epoch 142/200\n",
            "51/51 [==============================] - 5s 108ms/step - loss: 3.7948e-04 - mse: 3.7948e-04 - mae: 0.0149 - mape: 2.5100 - val_loss: 1.1038e-04 - val_mse: 1.1038e-04 - val_mae: 0.0084 - val_mape: 1.1494\n",
            "Epoch 143/200\n",
            "51/51 [==============================] - 5s 108ms/step - loss: 3.3341e-04 - mse: 3.3341e-04 - mae: 0.0138 - mape: 2.3161 - val_loss: 5.5491e-05 - val_mse: 5.5491e-05 - val_mae: 0.0050 - val_mape: 0.6899\n",
            "Epoch 144/200\n",
            "51/51 [==============================] - 5s 107ms/step - loss: 3.2945e-04 - mse: 3.2945e-04 - mae: 0.0137 - mape: 2.2574 - val_loss: 1.3852e-04 - val_mse: 1.3852e-04 - val_mae: 0.0099 - val_mape: 1.3450\n",
            "Epoch 145/200\n",
            "51/51 [==============================] - 5s 108ms/step - loss: 3.7552e-04 - mse: 3.7552e-04 - mae: 0.0149 - mape: 2.4899 - val_loss: 1.3727e-04 - val_mse: 1.3727e-04 - val_mae: 0.0098 - val_mape: 1.3456\n",
            "Epoch 146/200\n",
            "51/51 [==============================] - 5s 108ms/step - loss: 3.5013e-04 - mse: 3.5013e-04 - mae: 0.0143 - mape: 2.3965 - val_loss: 7.7415e-05 - val_mse: 7.7415e-05 - val_mae: 0.0068 - val_mape: 0.9407\n",
            "Epoch 147/200\n",
            "51/51 [==============================] - 6s 110ms/step - loss: 3.3353e-04 - mse: 3.3353e-04 - mae: 0.0139 - mape: 2.2667 - val_loss: 1.4984e-04 - val_mse: 1.4984e-04 - val_mae: 0.0103 - val_mape: 1.4005\n",
            "Epoch 148/200\n",
            "51/51 [==============================] - 5s 108ms/step - loss: 3.1511e-04 - mse: 3.1511e-04 - mae: 0.0137 - mape: 2.2892 - val_loss: 2.8334e-04 - val_mse: 2.8334e-04 - val_mae: 0.0153 - val_mape: 2.1096\n",
            "Epoch 149/200\n",
            "51/51 [==============================] - 6s 108ms/step - loss: 5.4364e-04 - mse: 5.4364e-04 - mae: 0.0183 - mape: 3.0760 - val_loss: 6.0116e-05 - val_mse: 6.0116e-05 - val_mae: 0.0052 - val_mape: 0.7157\n",
            "Epoch 150/200\n",
            "51/51 [==============================] - 5s 107ms/step - loss: 3.1890e-04 - mse: 3.1890e-04 - mae: 0.0134 - mape: 2.2029 - val_loss: 1.1352e-04 - val_mse: 1.1352e-04 - val_mae: 0.0088 - val_mape: 1.2133\n",
            "Epoch 151/200\n",
            "51/51 [==============================] - 6s 109ms/step - loss: 3.2338e-04 - mse: 3.2338e-04 - mae: 0.0138 - mape: 2.2564 - val_loss: 1.8281e-04 - val_mse: 1.8281e-04 - val_mae: 0.0118 - val_mape: 1.6191\n",
            "Epoch 152/200\n",
            "51/51 [==============================] - 6s 109ms/step - loss: 3.1806e-04 - mse: 3.1806e-04 - mae: 0.0135 - mape: 2.2655 - val_loss: 6.1221e-05 - val_mse: 6.1221e-05 - val_mae: 0.0053 - val_mape: 0.7261\n",
            "Epoch 153/200\n",
            "51/51 [==============================] - 5s 108ms/step - loss: 3.7156e-04 - mse: 3.7156e-04 - mae: 0.0147 - mape: 2.4858 - val_loss: 1.2814e-04 - val_mse: 1.2814e-04 - val_mae: 0.0094 - val_mape: 1.2788\n",
            "Epoch 154/200\n",
            "51/51 [==============================] - 5s 107ms/step - loss: 3.8261e-04 - mse: 3.8261e-04 - mae: 0.0152 - mape: 2.5066 - val_loss: 5.8460e-05 - val_mse: 5.8460e-05 - val_mae: 0.0050 - val_mape: 0.6913\n",
            "Epoch 155/200\n",
            "51/51 [==============================] - 6s 108ms/step - loss: 3.5949e-04 - mse: 3.5949e-04 - mae: 0.0140 - mape: 2.3767 - val_loss: 7.4135e-05 - val_mse: 7.4135e-05 - val_mae: 0.0062 - val_mape: 0.8430\n",
            "Epoch 156/200\n",
            "51/51 [==============================] - 6s 109ms/step - loss: 2.8797e-04 - mse: 2.8797e-04 - mae: 0.0129 - mape: 2.0990 - val_loss: 8.4605e-05 - val_mse: 8.4605e-05 - val_mae: 0.0072 - val_mape: 0.9929\n",
            "Epoch 157/200\n",
            "51/51 [==============================] - 6s 109ms/step - loss: 3.1793e-04 - mse: 3.1793e-04 - mae: 0.0134 - mape: 2.2049 - val_loss: 1.0196e-04 - val_mse: 1.0196e-04 - val_mae: 0.0083 - val_mape: 1.1545\n",
            "Epoch 158/200\n",
            "51/51 [==============================] - 5s 108ms/step - loss: 3.2925e-04 - mse: 3.2925e-04 - mae: 0.0139 - mape: 2.3060 - val_loss: 9.7252e-05 - val_mse: 9.7252e-05 - val_mae: 0.0080 - val_mape: 1.1082\n",
            "Epoch 159/200\n",
            "51/51 [==============================] - 5s 107ms/step - loss: 3.4350e-04 - mse: 3.4350e-04 - mae: 0.0139 - mape: 2.2961 - val_loss: 6.3120e-05 - val_mse: 6.3120e-05 - val_mae: 0.0056 - val_mape: 0.7663\n",
            "Epoch 160/200\n",
            "51/51 [==============================] - 5s 106ms/step - loss: 2.3547e-04 - mse: 2.3547e-04 - mae: 0.0114 - mape: 1.8847 - val_loss: 2.1201e-04 - val_mse: 2.1201e-04 - val_mae: 0.0131 - val_mape: 1.8099\n",
            "Epoch 161/200\n",
            "51/51 [==============================] - 6s 109ms/step - loss: 2.9945e-04 - mse: 2.9945e-04 - mae: 0.0129 - mape: 2.1674 - val_loss: 1.5685e-04 - val_mse: 1.5685e-04 - val_mae: 0.0107 - val_mape: 1.4534\n",
            "Epoch 162/200\n",
            "51/51 [==============================] - 5s 107ms/step - loss: 3.3509e-04 - mse: 3.3509e-04 - mae: 0.0135 - mape: 2.2620 - val_loss: 6.2186e-05 - val_mse: 6.2186e-05 - val_mae: 0.0056 - val_mape: 0.7689\n",
            "Epoch 163/200\n",
            "51/51 [==============================] - 5s 108ms/step - loss: 2.9400e-04 - mse: 2.9400e-04 - mae: 0.0128 - mape: 2.1059 - val_loss: 1.0922e-04 - val_mse: 1.0922e-04 - val_mae: 0.0088 - val_mape: 1.2159\n",
            "Epoch 164/200\n",
            "51/51 [==============================] - 5s 108ms/step - loss: 3.0374e-04 - mse: 3.0374e-04 - mae: 0.0133 - mape: 2.2566 - val_loss: 1.7614e-04 - val_mse: 1.7614e-04 - val_mae: 0.0115 - val_mape: 1.5778\n",
            "Epoch 165/200\n",
            "51/51 [==============================] - 5s 108ms/step - loss: 4.2019e-04 - mse: 4.2019e-04 - mae: 0.0157 - mape: 2.5838 - val_loss: 8.0273e-05 - val_mse: 8.0273e-05 - val_mae: 0.0069 - val_mape: 0.9643\n",
            "Epoch 166/200\n",
            "51/51 [==============================] - 5s 108ms/step - loss: 3.2176e-04 - mse: 3.2176e-04 - mae: 0.0135 - mape: 2.2005 - val_loss: 6.1265e-05 - val_mse: 6.1265e-05 - val_mae: 0.0054 - val_mape: 0.7361\n",
            "Epoch 167/200\n",
            "51/51 [==============================] - 5s 107ms/step - loss: 3.0575e-04 - mse: 3.0575e-04 - mae: 0.0133 - mape: 2.2121 - val_loss: 6.3499e-05 - val_mse: 6.3499e-05 - val_mae: 0.0055 - val_mape: 0.7457\n",
            "Epoch 168/200\n",
            "51/51 [==============================] - 6s 108ms/step - loss: 2.6421e-04 - mse: 2.6421e-04 - mae: 0.0122 - mape: 2.0855 - val_loss: 7.7424e-05 - val_mse: 7.7424e-05 - val_mae: 0.0068 - val_mape: 0.9456\n",
            "Epoch 169/200\n",
            "51/51 [==============================] - 5s 108ms/step - loss: 3.5774e-04 - mse: 3.5774e-04 - mae: 0.0144 - mape: 2.4102 - val_loss: 5.8987e-05 - val_mse: 5.8987e-05 - val_mae: 0.0053 - val_mape: 0.7273\n",
            "Epoch 170/200\n",
            "51/51 [==============================] - 5s 107ms/step - loss: 2.7642e-04 - mse: 2.7642e-04 - mae: 0.0124 - mape: 2.1053 - val_loss: 3.0822e-04 - val_mse: 3.0822e-04 - val_mae: 0.0161 - val_mape: 2.1947\n",
            "Epoch 171/200\n",
            "51/51 [==============================] - 5s 107ms/step - loss: 3.1960e-04 - mse: 3.1960e-04 - mae: 0.0137 - mape: 2.2388 - val_loss: 1.8986e-04 - val_mse: 1.8986e-04 - val_mae: 0.0122 - val_mape: 1.6742\n",
            "Epoch 172/200\n",
            "51/51 [==============================] - 5s 107ms/step - loss: 2.9458e-04 - mse: 2.9458e-04 - mae: 0.0131 - mape: 2.1418 - val_loss: 3.9311e-04 - val_mse: 3.9311e-04 - val_mae: 0.0184 - val_mape: 2.5255\n",
            "Epoch 173/200\n",
            "51/51 [==============================] - 6s 108ms/step - loss: 3.4210e-04 - mse: 3.4210e-04 - mae: 0.0141 - mape: 2.4152 - val_loss: 7.8611e-05 - val_mse: 7.8611e-05 - val_mae: 0.0065 - val_mape: 0.8956\n",
            "Epoch 174/200\n",
            "51/51 [==============================] - 6s 109ms/step - loss: 2.7621e-04 - mse: 2.7621e-04 - mae: 0.0122 - mape: 2.0195 - val_loss: 1.1586e-04 - val_mse: 1.1586e-04 - val_mae: 0.0091 - val_mape: 1.2520\n",
            "Epoch 175/200\n",
            "51/51 [==============================] - 6s 108ms/step - loss: 2.7112e-04 - mse: 2.7112e-04 - mae: 0.0125 - mape: 2.0617 - val_loss: 1.0209e-04 - val_mse: 1.0209e-04 - val_mae: 0.0081 - val_mape: 1.1133\n",
            "Epoch 176/200\n",
            "51/51 [==============================] - 6s 110ms/step - loss: 3.0835e-04 - mse: 3.0835e-04 - mae: 0.0134 - mape: 2.2595 - val_loss: 6.3343e-05 - val_mse: 6.3343e-05 - val_mae: 0.0057 - val_mape: 0.7906\n",
            "Epoch 177/200\n",
            "51/51 [==============================] - 6s 111ms/step - loss: 3.1271e-04 - mse: 3.1271e-04 - mae: 0.0129 - mape: 2.1502 - val_loss: 8.1274e-05 - val_mse: 8.1274e-05 - val_mae: 0.0067 - val_mape: 0.9198\n",
            "Epoch 178/200\n",
            "51/51 [==============================] - 6s 111ms/step - loss: 2.8283e-04 - mse: 2.8283e-04 - mae: 0.0127 - mape: 2.1154 - val_loss: 6.0499e-05 - val_mse: 6.0499e-05 - val_mae: 0.0055 - val_mape: 0.7646\n",
            "Epoch 179/200\n",
            "51/51 [==============================] - 6s 109ms/step - loss: 2.7139e-04 - mse: 2.7139e-04 - mae: 0.0122 - mape: 2.0203 - val_loss: 1.0093e-04 - val_mse: 1.0093e-04 - val_mae: 0.0080 - val_mape: 1.1089\n",
            "Epoch 180/200\n",
            "51/51 [==============================] - 6s 110ms/step - loss: 3.3170e-04 - mse: 3.3170e-04 - mae: 0.0139 - mape: 2.3318 - val_loss: 9.4881e-05 - val_mse: 9.4881e-05 - val_mae: 0.0077 - val_mape: 1.0525\n",
            "Epoch 181/200\n",
            "51/51 [==============================] - 5s 108ms/step - loss: 3.1368e-04 - mse: 3.1368e-04 - mae: 0.0134 - mape: 2.2381 - val_loss: 2.2717e-04 - val_mse: 2.2717e-04 - val_mae: 0.0134 - val_mape: 1.8355\n",
            "Epoch 182/200\n",
            "51/51 [==============================] - 6s 108ms/step - loss: 2.8545e-04 - mse: 2.8545e-04 - mae: 0.0129 - mape: 2.1847 - val_loss: 1.3476e-04 - val_mse: 1.3476e-04 - val_mae: 0.0097 - val_mape: 1.3373\n",
            "Epoch 183/200\n",
            "51/51 [==============================] - 6s 109ms/step - loss: 2.6603e-04 - mse: 2.6603e-04 - mae: 0.0119 - mape: 1.9735 - val_loss: 5.6408e-05 - val_mse: 5.6408e-05 - val_mae: 0.0050 - val_mape: 0.6872\n",
            "Epoch 184/200\n",
            "51/51 [==============================] - 6s 108ms/step - loss: 2.7415e-04 - mse: 2.7415e-04 - mae: 0.0123 - mape: 2.0901 - val_loss: 2.7849e-04 - val_mse: 2.7849e-04 - val_mae: 0.0152 - val_mape: 2.0897\n",
            "Epoch 185/200\n",
            "51/51 [==============================] - 6s 109ms/step - loss: 3.0577e-04 - mse: 3.0577e-04 - mae: 0.0131 - mape: 2.1217 - val_loss: 6.4081e-05 - val_mse: 6.4081e-05 - val_mae: 0.0058 - val_mape: 0.7901\n",
            "Epoch 186/200\n",
            "51/51 [==============================] - 6s 109ms/step - loss: 2.8457e-04 - mse: 2.8457e-04 - mae: 0.0128 - mape: 2.1213 - val_loss: 5.8200e-05 - val_mse: 5.8200e-05 - val_mae: 0.0051 - val_mape: 0.6961\n",
            "Epoch 187/200\n",
            "51/51 [==============================] - 5s 108ms/step - loss: 2.6099e-04 - mse: 2.6099e-04 - mae: 0.0121 - mape: 2.0609 - val_loss: 5.9741e-05 - val_mse: 5.9741e-05 - val_mae: 0.0054 - val_mape: 0.7404\n",
            "Epoch 188/200\n",
            "51/51 [==============================] - 6s 109ms/step - loss: 2.9211e-04 - mse: 2.9211e-04 - mae: 0.0125 - mape: 2.1298 - val_loss: 1.2339e-04 - val_mse: 1.2339e-04 - val_mae: 0.0093 - val_mape: 1.2692\n",
            "Epoch 189/200\n",
            "51/51 [==============================] - 6s 109ms/step - loss: 2.4645e-04 - mse: 2.4645e-04 - mae: 0.0116 - mape: 1.9519 - val_loss: 7.4331e-05 - val_mse: 7.4331e-05 - val_mae: 0.0062 - val_mape: 0.8470\n",
            "Epoch 190/200\n",
            "51/51 [==============================] - 6s 109ms/step - loss: 2.8052e-04 - mse: 2.8052e-04 - mae: 0.0125 - mape: 2.2063 - val_loss: 2.0674e-04 - val_mse: 2.0674e-04 - val_mae: 0.0128 - val_mape: 1.7487\n",
            "Epoch 191/200\n",
            "51/51 [==============================] - 6s 109ms/step - loss: 2.7829e-04 - mse: 2.7829e-04 - mae: 0.0126 - mape: 2.1039 - val_loss: 7.2259e-05 - val_mse: 7.2259e-05 - val_mae: 0.0062 - val_mape: 0.8459\n",
            "Epoch 192/200\n",
            "51/51 [==============================] - 6s 108ms/step - loss: 2.6227e-04 - mse: 2.6227e-04 - mae: 0.0122 - mape: 2.0679 - val_loss: 8.2997e-05 - val_mse: 8.2997e-05 - val_mae: 0.0068 - val_mape: 0.9337\n",
            "Epoch 193/200\n",
            "51/51 [==============================] - 6s 110ms/step - loss: 2.8629e-04 - mse: 2.8629e-04 - mae: 0.0123 - mape: 2.0536 - val_loss: 5.6377e-05 - val_mse: 5.6377e-05 - val_mae: 0.0051 - val_mape: 0.6995\n",
            "Epoch 194/200\n",
            "51/51 [==============================] - 6s 109ms/step - loss: 2.9653e-04 - mse: 2.9653e-04 - mae: 0.0130 - mape: 2.2201 - val_loss: 2.6064e-04 - val_mse: 2.6064e-04 - val_mae: 0.0146 - val_mape: 2.0133\n",
            "Epoch 195/200\n",
            "51/51 [==============================] - 6s 110ms/step - loss: 2.9152e-04 - mse: 2.9152e-04 - mae: 0.0130 - mape: 2.1583 - val_loss: 8.0833e-05 - val_mse: 8.0833e-05 - val_mae: 0.0070 - val_mape: 0.9679\n",
            "Epoch 196/200\n",
            "51/51 [==============================] - 6s 109ms/step - loss: 2.6632e-04 - mse: 2.6632e-04 - mae: 0.0120 - mape: 1.9966 - val_loss: 1.8630e-04 - val_mse: 1.8630e-04 - val_mae: 0.0120 - val_mape: 1.6473\n",
            "Epoch 197/200\n",
            "51/51 [==============================] - 6s 109ms/step - loss: 2.7085e-04 - mse: 2.7085e-04 - mae: 0.0125 - mape: 2.1278 - val_loss: 9.2994e-05 - val_mse: 9.2994e-05 - val_mae: 0.0074 - val_mape: 1.0188\n",
            "Epoch 198/200\n",
            "51/51 [==============================] - 6s 109ms/step - loss: 3.1149e-04 - mse: 3.1149e-04 - mae: 0.0132 - mape: 2.2380 - val_loss: 7.1082e-05 - val_mse: 7.1082e-05 - val_mae: 0.0063 - val_mape: 0.8677\n",
            "Epoch 199/200\n",
            "51/51 [==============================] - 6s 111ms/step - loss: 2.4337e-04 - mse: 2.4337e-04 - mae: 0.0112 - mape: 1.8755 - val_loss: 2.5460e-04 - val_mse: 2.5460e-04 - val_mae: 0.0144 - val_mape: 1.9800\n",
            "Epoch 200/200\n",
            "51/51 [==============================] - 6s 110ms/step - loss: 2.9808e-04 - mse: 2.9808e-04 - mae: 0.0131 - mape: 2.2293 - val_loss: 1.1053e-04 - val_mse: 1.1053e-04 - val_mae: 0.0084 - val_mape: 1.1567\n"
          ],
          "name": "stdout"
        }
      ]
    },
    {
      "cell_type": "code",
      "metadata": {
        "colab": {
          "base_uri": "https://localhost:8080/",
          "height": 279
        },
        "id": "64flD5CxuvWx",
        "outputId": "a6077301-344c-4997-ffad-8a4f80353a9b"
      },
      "source": [
        "plt.plot(history.history['loss'],'r',label='train loss')\n",
        "plt.plot(history.history['val_loss'],'g',label='val loss')\n",
        "plt.xlabel('# epoch')\n",
        "plt.ylabel('loss')\n",
        "plt.legend()\n",
        "plt.show()"
      ],
      "execution_count": 8,
      "outputs": [
        {
          "output_type": "display_data",
          "data": {
            "image/png": "[encoded data removed]",
            "text/plain": [
              "<Figure size 432x288 with 1 Axes>"
            ]
          },
          "metadata": {
            "tags": [],
            "needs_background": "light"
          }
        }
      ]
    },
    {
      "cell_type": "code",
      "metadata": {
        "colab": {
          "base_uri": "https://localhost:8080/"
        },
        "id": "XT0MB5c5uxR5",
        "outputId": "b991a185-eb9b-4927-a3ff-a2755a216f1d"
      },
      "source": [
        "result=model.predict(test_data)\n",
        "\n",
        "from sklearn.metrics import r2_score\n",
        "\n",
        "r2=r2_score(test_target,result)\n",
        "print('r2 score:',r2)"
      ],
      "execution_count": 9,
      "outputs": [
        {
          "output_type": "stream",
          "text": [
            "r2 score: 0.9902077272781703\n"
          ],
          "name": "stdout"
        }
      ]
    },
    {
      "cell_type": "code",
      "metadata": {
        "colab": {
          "base_uri": "https://localhost:8080/"
        },
        "id": "ACptkYvFDdwA",
        "outputId": "72421eec-5f3a-44d5-e8ff-5e1d04578462"
      },
      "source": [
        "score = model.evaluate(test_data, test_target, verbose = 0) \n",
        "print(\"%s: %.2f%%\" % (model.metrics_names[0], score[0]))\n",
        "print(\"%s: %.2f%%\" % (model.metrics_names[1], score[1]))\n",
        "print(\"%s: %.2f%%\" % (model.metrics_names[2], score[2]))\n",
        "print(\"%s: %.2f%%\" % (model.metrics_names[3], score[3]))\n",
        "#print('Test loss:', score[0]) \n",
        "print('MAPE:', score[3])"
      ],
      "execution_count": 10,
      "outputs": [
        {
          "output_type": "stream",
          "text": [
            "loss: 0.00%\n",
            "mse: 0.00%\n",
            "mae: 0.02%\n",
            "mape: 50934.69%\n",
            "MAPE: 50934.69140625\n"
          ],
          "name": "stdout"
        }
      ]
    },
    {
      "cell_type": "code",
      "metadata": {
        "colab": {
          "base_uri": "https://localhost:8080/",
          "height": 279
        },
        "id": "WWRRj41fuzdh",
        "outputId": "f3760b60-e429-4555-c6a5-95907ecd9d91"
      },
      "source": [
        "#test_x_range=np.arange(1000,1209,1)\n",
        "test_x_range=np.arange(1791,2559,1)\n",
        "#test_x_range is an array of values between 1000-1208\n",
        "\n",
        "plt.plot(train_target,'r',label='train')\n",
        "plt.plot(test_x_range,test_target,'b',label='test')\n",
        "plt.plot(test_x_range,result,'g',label='predicted')\n",
        "\n",
        "plt.xlabel('Date')\n",
        "plt.ylabel('Open Value/$')\n",
        "plt.legend()\n",
        "plt.show()"
      ],
      "execution_count": 11,
      "outputs": [
        {
          "output_type": "display_data",
          "data": {
            "image/png": "[encoded data removed]",
            "text/plain": [
              "<Figure size 432x288 with 1 Axes>"
            ]
          },
          "metadata": {
            "tags": [],
            "needs_background": "light"
          }
        }
      ]
    },
    {
      "cell_type": "code",
      "metadata": {
        "colab": {
          "base_uri": "https://localhost:8080/",
          "height": 279
        },
        "id": "T4CR9lrAu7XR",
        "outputId": "90db7567-d1a2-4b88-aed2-e770f586f631"
      },
      "source": [
        "plt.plot(test_target,'b',label='test')\n",
        "plt.plot(result,'r',label='predicted')\n",
        "\n",
        "plt.xlabel('Date')\n",
        "plt.ylabel('Open Value/$')\n",
        "plt.legend()\n",
        "plt.show()"
      ],
      "execution_count": 12,
      "outputs": [
        {
          "output_type": "display_data",
          "data": {
            "image/png": "[encoded data removed]",
            "text/plain": [
              "<Figure size 432x288 with 1 Axes>"
            ]
          },
          "metadata": {
            "tags": [],
            "needs_background": "light"
          }
        }
      ]
    }
  ]
}